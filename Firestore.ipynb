{
 "cells": [
  {
   "cell_type": "code",
   "execution_count": 13,
   "id": "61b1276e",
   "metadata": {},
   "outputs": [],
   "source": [
    "import firebase_admin\n",
    "from firebase_admin import credentials, auth, firestore\n",
    "import streamlit as st\n",
    "\n",
    "\n",
    "# 1 Conectando a firestore\n",
    "\n",
    "# Ruta al archivo JSON\n",
    "service_account_key_path = 'serviceAccountKey.json'\n",
    "\n",
    "# Inicializar Firebase solo si no está ya inicializado\n",
    "if not firebase_admin._apps:\n",
    "    cred = credentials.Certificate(service_account_key_path)\n",
    "    firebase_admin.initialize_app(cred)\n",
    "\n",
    "# Conectar al cliente de Firestore\n",
    "db = firestore.client()"
   ]
  },
  {
   "cell_type": "code",
   "execution_count": 7,
   "id": "ba1b5b0c",
   "metadata": {},
   "outputs": [
    {
     "name": "stdout",
     "output_type": "stream",
     "text": [
      "8wG94GySNmr5NNc6GzaZ => {'name': 'Jeans Premium', 'category': 'pantalones', 'price': 79.99, 'description': 'Jeans de alta calidad con corte moderno', 'image': 'https://images.unsplash.com/photo-1542272604-787c3835535d?w=400', 'stock': 20}\n",
      "9fJtQX3Hvilkj4xd08GW => {'name': 'Blusa Casual', 'category': 'blusas', 'price': 45.99, 'description': 'Blusa cómoda y versátil para el día a día', 'image': 'https://images.unsplash.com/photo-1596755094514-f87e34085b2c?w=400', 'stock': 25}\n",
      "L7Qrl7jWkKKaDOOVpUCd => {'name': 'Bolso de Mano', 'category': 'accesorios', 'price': 65.99, 'description': 'Bolso de mano versátil y elegante', 'image': 'https://images.unsplash.com/photo-1553062407-98eeb64c6a62?w=400', 'stock': 18}\n",
      "UpahqxpQg1VJm0vKFBAm => {'name': 'Chaqueta de Cuero', 'category': 'chaquetas', 'price': 129.99, 'description': 'Chaqueta de cuero auténtico, estilo urbano', 'image': 'https://images.unsplash.com/photo-1551028719-00167b16eac5?w=400', 'stock': 8}\n",
      "h5qEAa1yAts0Azk1sK0x => {'name': 'Vestido Elegante', 'category': 'vestidos', 'price': 89.99, 'description': 'Vestido elegante perfecto', 'image': 'https://images.unsplash.com/photo-1595777457583-95e059d581b8?w=400', 'stock': 15}\n",
      "knBUsnkrofdSMD7SHC3K => {'name': 'Zapatos Elegantes', 'category': 'zapatos', 'price': 95.99, 'description': 'Zapatos elegantes para completar tu look', 'image': 'https://images.unsplash.com/photo-1543163521-1bf539c55dd2?w=400', 'stock': 12}\n"
     ]
    }
   ],
   "source": [
    "# 2.1 Obtener todos los documentos de una colección\n",
    "\n",
    "products_ref = db.collection('products')\n",
    "docs = products_ref.stream()\n",
    "for doc in docs:\n",
    "    print(f\"{doc.id} => {doc.to_dict()}\")"
   ]
  },
  {
   "cell_type": "code",
   "execution_count": null,
   "id": "e2fc9ce0",
   "metadata": {},
   "outputs": [
    {
     "name": "stdout",
     "output_type": "stream",
     "text": [
      "{'user_id': '111907783735044489731', 'created_at': DatetimeWithNanoseconds(2025, 8, 4, 3, 36, 8, 438210, tzinfo=datetime.timezone.utc), 'status': 'pending_payment', 'session_id': 'cs_test_b1dpjM3qYTg5PxS9o2yG92UtqAOGfELYRtQSjx1oPWIB9RxKk1VojE54JY', 'items': [{'name': 'Jeans Premium', 'price': 79.99, 'quantity': 1, 'image': 'https://images.unsplash.com/photo-1542272604-787c3835535d?w=400'}, {'name': 'Blusa Casual', 'price': 45.99, 'quantity': 1, 'image': 'https://images.unsplash.com/photo-1596755094514-f87e34085b2c?w=400'}]}\n"
     ]
    }
   ],
   "source": [
    "# 2.2 Leer un documento específico\n",
    "\n",
    "cart_ref = db.collection('carts').document('cs_test_b1dpjM3qYTg5PxS9o2yG92UtqAOGfELYRtQSjx1oPWIB9RxKk1VojE54JY')\n",
    "cart_doc = cart_ref.get()\n",
    "print(cart_doc.to_dict())"
   ]
  },
  {
   "cell_type": "code",
   "execution_count": 8,
   "id": "408dde1d",
   "metadata": {},
   "outputs": [
    {
     "name": "stderr",
     "output_type": "stream",
     "text": [
      "c:\\Users\\Lenovo\\Documents\\DataScience\\EnvData\\lib\\site-packages\\google\\cloud\\firestore_v1\\base_collection.py:304: UserWarning: Detected filter using positional arguments. Prefer using the 'filter' keyword argument instead.\n",
      "  return query.where(field_path, op_string, value)\n"
     ]
    },
    {
     "name": "stdout",
     "output_type": "stream",
     "text": [
      "h5qEAa1yAts0Azk1sK0x => {'name': 'Vestido Elegante', 'category': 'vestidos', 'price': 89.99, 'description': 'Vestido elegante perfecto', 'image': 'https://images.unsplash.com/photo-1595777457583-95e059d581b8?w=400', 'stock': 15}\n"
     ]
    }
   ],
   "source": [
    "# 2.3 Consulta con filtro WHERE\n",
    "\n",
    "products_ref = db.collection('products') \n",
    "query = products_ref.where('name', '==', 'Vestido Elegante')\n",
    "docs = query.stream()\n",
    "for doc in docs:\n",
    "    print(f\"{doc.id} => {doc.to_dict()}\") "
   ]
  },
  {
   "cell_type": "code",
   "execution_count": null,
   "id": "1b18fdc6",
   "metadata": {},
   "outputs": [
    {
     "data": {
      "text/plain": [
       "(DatetimeWithNanoseconds(2025, 8, 4, 9, 37, 11, 564662, tzinfo=datetime.timezone.utc),\n",
       " <google.cloud.firestore_v1.document.DocumentReference at 0x28f8b2570d0>)"
      ]
     },
     "execution_count": 10,
     "metadata": {},
     "output_type": "execute_result"
    }
   ],
   "source": [
    "# 3.1 Crear documento con ID automático\n",
    "\n",
    "product = {\n",
    "    \"name\": \"Chamarra de Lona\",\n",
    "    \"price\": 100.99,\n",
    "    \"image\": \"https://m.media-amazon.com/images/I/61OqT1YlknL._AC_SX679_.jpg\",\n",
    "    \"description\": \"Carhartt Chaqueta de Franela Acolchada\",\n",
    "    \"category\": \"chaquetas\",\n",
    "    \"stock\": 10\n",
    "}\n",
    "\n",
    "db.collection('products').add(product) "
   ]
  },
  {
   "cell_type": "code",
   "execution_count": null,
   "id": "472ebf79",
   "metadata": {},
   "outputs": [
    {
     "data": {
      "text/plain": [
       "(DatetimeWithNanoseconds(2025, 8, 4, 9, 46, 14, 58040, tzinfo=datetime.timezone.utc),\n",
       " <google.cloud.firestore_v1.document.DocumentReference at 0x28f8b256560>)"
      ]
     },
     "execution_count": 11,
     "metadata": {},
     "output_type": "execute_result"
    }
   ],
   "source": [
    "product = {\n",
    "    \"name\": \"casaca de pluma columbia\",\n",
    "    \"price\": 60.99,\n",
    "    \"image\": \"https://img.kwcdn.com/product/fancy/cdceda3e-36ac-40a8-b33a-811dd3e0fa3a.jpg?imageView2/2/w/800/q/70/format/webp\",\n",
    "    \"description\": \"casa de pluma de la marca columbia\",\n",
    "    \"category\": \"chaquetas\",\n",
    "    \"stock\": 9\n",
    "}\n",
    "\n",
    "db.collection('products').add(product) "
   ]
  },
  {
   "cell_type": "code",
   "execution_count": 14,
   "id": "e1ed196c",
   "metadata": {},
   "outputs": [],
   "source": [
    "docs = db.collection('products').where(\"name\", \"==\", \"Test\").stream()\n",
    "\n",
    "for doc in docs:\n",
    "    doc.reference.delete()\n",
    "    st.success(f\"Producto '{doc.id}' eliminado\")"
   ]
  },
  {
   "cell_type": "code",
   "execution_count": 15,
   "id": "5d69c5df",
   "metadata": {},
   "outputs": [
    {
     "data": {
      "text/plain": [
       "update_time {\n",
       "  seconds: 1754301810\n",
       "  nanos: 23140000\n",
       "}"
      ]
     },
     "execution_count": 15,
     "metadata": {},
     "output_type": "execute_result"
    }
   ],
   "source": [
    "# 3.3 Actualizar documento existente\n",
    "\n",
    "from datetime import datetime\n",
    "\n",
    "doc_ref = db.collection('usuarios').document('111907783735044489731')\n",
    "doc_ref.update({\n",
    "    'last_login': datetime.now() \n",
    "})"
   ]
  },
  {
   "cell_type": "code",
   "execution_count": null,
   "id": "473d192b",
   "metadata": {},
   "outputs": [],
   "source": [
    "# Eliminar documento completo\n",
    "\n",
    "# cart_ref = db.collection('carritos').document('ID_DEL_CARRITO')  # Reemplaza con tu ID\n",
    "# cart_ref.delete() "
   ]
  }
 ],
 "metadata": {
  "kernelspec": {
   "display_name": "EnvData",
   "language": "python",
   "name": "python3"
  },
  "language_info": {
   "codemirror_mode": {
    "name": "ipython",
    "version": 3
   },
   "file_extension": ".py",
   "mimetype": "text/x-python",
   "name": "python",
   "nbconvert_exporter": "python",
   "pygments_lexer": "ipython3",
   "version": "3.10.0"
  }
 },
 "nbformat": 4,
 "nbformat_minor": 5
}
